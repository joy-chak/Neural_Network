{
 "cells": [
  {
   "cell_type": "code",
   "execution_count": 16,
   "metadata": {},
   "outputs": [],
   "source": [
    "import numpy as np"
   ]
  },
  {
   "cell_type": "markdown",
   "metadata": {},
   "source": [
    "# Normal Gradient Descent"
   ]
  },
  {
   "cell_type": "code",
   "execution_count": 84,
   "metadata": {},
   "outputs": [],
   "source": [
    "class gradient_descent:\n",
    "\n",
    "    def __init__(self,lr,epochs,weights,inputs,b,y):\n",
    "        self.lr = lr\n",
    "        self.epochs = epochs\n",
    "        self.weights = weights\n",
    "        self.inputs = inputs\n",
    "        self.b = b\n",
    "        self.y = y\n",
    "\n",
    "    def activation(self,x):\n",
    "        return 1 / (1 + np.exp(-(x * self.weights + self.b)))\n",
    "\n",
    "    def error(self):\n",
    "        err = 0\n",
    "        for x,y in zip(self.inputs,self.y):\n",
    "            f_x = self.activation(x)\n",
    "            err += 0.5 * (f_x - y) ** 2\n",
    "        return err\n",
    "\n",
    "    def grad_b(self,x,y):\n",
    "        f_x = self.activation(x)\n",
    "        return (f_x - y) * f_x * (1 - f_x)\n",
    "\n",
    "    def grad_w(self,x,y):\n",
    "        f_x = self.activation(x)\n",
    "        return (f_x - y) * f_x * (1 - f_x) * x\n",
    "\n",
    "    def gd_algo(self):\n",
    "        for i in range(self.epochs):\n",
    "            dw,db = 0,0\n",
    "            for x,y in zip(self.inputs,self.y):\n",
    "                dw += self.grad_w(x,y)\n",
    "                db += self.grad_b(x,y)\n",
    "            self.weights = self.weights - self.lr * dw\n",
    "            self.b = self.b - self.lr * db\n",
    "        \n",
    "        return self.weights,self.b"
   ]
  },
  {
   "cell_type": "code",
   "execution_count": 85,
   "metadata": {},
   "outputs": [
    {
     "data": {
      "text/plain": [
       "5253.323119969317"
      ]
     },
     "execution_count": 85,
     "metadata": {},
     "output_type": "execute_result"
    }
   ],
   "source": [
    "lr = .01\n",
    "epochs = 200000\n",
    "weights = 1\n",
    "bias = -2\n",
    "inputs = [2,-5,3,10]\n",
    "output = [4,25,9,100]\n",
    "\n",
    "gd = gradient_descent(lr,epochs,weights,inputs,b=bias,y=output)\n",
    "\n",
    "#Without Gradient Descent the Loss is\n",
    "gd.error()"
   ]
  },
  {
   "cell_type": "code",
   "execution_count": 86,
   "metadata": {},
   "outputs": [
    {
     "name": "stdout",
     "output_type": "stream",
     "text": [
      "5.201402921211379\n",
      "-0.06102561975430424\n"
     ]
    }
   ],
   "source": [
    "new_w,new_b = gd.gd_algo()\n",
    "print(new_w)\n",
    "print(new_b)"
   ]
  },
  {
   "cell_type": "code",
   "execution_count": 87,
   "metadata": {},
   "outputs": [
    {
     "data": {
      "text/plain": [
       "5249.500098189401"
      ]
     },
     "execution_count": 87,
     "metadata": {},
     "output_type": "execute_result"
    }
   ],
   "source": [
    "#Loss after GD\n",
    "gd = gradient_descent(lr,epochs,new_w,inputs,b=new_b,y=output)\n",
    "gd.error()"
   ]
  },
  {
   "cell_type": "markdown",
   "metadata": {},
   "source": [
    "# Stochastic Gradient Descent"
   ]
  },
  {
   "cell_type": "code",
   "execution_count": 69,
   "metadata": {},
   "outputs": [],
   "source": [
    "class sgd:\n",
    "\n",
    "    def __init__(self,inputs,outputs,weights,bias,learning_rate,epochs):\n",
    "        self.x = inputs\n",
    "        self.y = outputs\n",
    "        self.weights = weights\n",
    "        self.bias = bias\n",
    "        self.lr = learning_rate\n",
    "        self.epochs = epochs\n",
    "\n",
    "    def activation(self,x):\n",
    "        return 1 / (1 + np.exp(-(x * self.weights + self.bias)))\n",
    "\n",
    "    def loss(self):\n",
    "        err = 0\n",
    "        for x,y in zip(self.x,self.y):\n",
    "            f_x = self.activation(x)\n",
    "            err += 0.5 * (f_x - y) ** 2\n",
    "        return err\n",
    "\n",
    "    def grad_b(self,x,y):\n",
    "        f_x = self.activation(x)\n",
    "        return (f_x - y) * f_x * (1 - f_x)\n",
    "\n",
    "    def grad_w(self,x,y):\n",
    "        f_x = self.activation(x)\n",
    "        return (f_x - y) * f_x * (1 - f_x) * x\n",
    "        \n",
    "    def stochastic_gd(self):\n",
    "        for i in range(self.epochs):\n",
    "            d_w,d_b = 0,0\n",
    "            for x,y in zip(self.x,self.y):\n",
    "                d_w += self.grad_w(x,y)\n",
    "                d_b += self.grad_b(x,y)\n",
    "                self.weights = self.weights - self.lr * d_w\n",
    "                self.bias = self.bias - self.lr * d_b\n",
    "        return self.weights,self.bias      "
   ]
  },
  {
   "cell_type": "code",
   "execution_count": 70,
   "metadata": {},
   "outputs": [],
   "source": [
    "lr = .01\n",
    "epochs = 200000\n",
    "weights = 1\n",
    "bias = -2\n",
    "inputs = [2,-5,3,10]\n",
    "output = [4,25,9,100]"
   ]
  },
  {
   "cell_type": "code",
   "execution_count": 71,
   "metadata": {},
   "outputs": [],
   "source": [
    "s_gd = sgd(inputs,output,weights,bias,lr,epochs)"
   ]
  },
  {
   "cell_type": "code",
   "execution_count": 72,
   "metadata": {},
   "outputs": [
    {
     "data": {
      "text/plain": [
       "5253.323119969317"
      ]
     },
     "execution_count": 72,
     "metadata": {},
     "output_type": "execute_result"
    }
   ],
   "source": [
    "#loss with out sgd\n",
    "loss = s_gd.loss()\n",
    "loss"
   ]
  },
  {
   "cell_type": "code",
   "execution_count": 73,
   "metadata": {},
   "outputs": [],
   "source": [
    "w,b = s_gd.stochastic_gd()"
   ]
  },
  {
   "cell_type": "code",
   "execution_count": 74,
   "metadata": {},
   "outputs": [
    {
     "data": {
      "text/plain": [
       "5249.500024967948"
      ]
     },
     "execution_count": 74,
     "metadata": {},
     "output_type": "execute_result"
    }
   ],
   "source": [
    "#loss with sgd\n",
    "loss = s_gd.loss()\n",
    "loss"
   ]
  },
  {
   "cell_type": "markdown",
   "metadata": {},
   "source": [
    "# Mini Batch Gradient Descent"
   ]
  },
  {
   "cell_type": "code",
   "execution_count": 78,
   "metadata": {},
   "outputs": [],
   "source": [
    "class mini_batch_sgd:\n",
    "\n",
    "    def __init__(self,inputs,outputs,weights,bias,learning_rate,batch_size,epochs):\n",
    "        self.x = inputs\n",
    "        self.y = outputs\n",
    "        self.weights = weights\n",
    "        self.bias = bias\n",
    "        self.lr = learning_rate\n",
    "        self.batch_size = batch_size\n",
    "        self.epochs = epochs\n",
    "\n",
    "    def activation(self,x):\n",
    "        return 1 / (1 + np.exp(-(x * self.weights + self.bias)))\n",
    "\n",
    "    def loss(self):\n",
    "        err = 0\n",
    "        for x,y in zip(self.x,self.y):\n",
    "            f_x = self.activation(x)\n",
    "            err += 0.5 * (f_x - y) ** 2\n",
    "        return err\n",
    "\n",
    "    def grad_b(self,x,y):\n",
    "        f_x = self.activation(x)\n",
    "        return (f_x - y) * f_x * (1 - f_x)\n",
    "\n",
    "    def grad_w(self,x,y):\n",
    "        f_x = self.activation(x)\n",
    "        return (f_x - y) * f_x * (1 - f_x) * x\n",
    "\n",
    "    def mini_batch(self):\n",
    "        for i in range(self.epochs):\n",
    "            d_w,d_b,points_seen = 0,0,0\n",
    "            for x,y in zip(self.x,self.y):\n",
    "                d_w = self.grad_w(x,y)\n",
    "                d_b = self.grad_b(x,y)\n",
    "                points_seen += 1\n",
    "\n",
    "                if points_seen % self.batch_size == 0:\n",
    "                    self.weights = self.weights - self.lr * d_w\n",
    "                    self.bias = self.bias - self.lr * d_b\n",
    "                    d_w,d_b = 0,0\n",
    "        return self.weights,self.bias"
   ]
  },
  {
   "cell_type": "code",
   "execution_count": 76,
   "metadata": {},
   "outputs": [],
   "source": [
    "lr = .01\n",
    "epochs = 200000\n",
    "weights = 1\n",
    "bias = -2\n",
    "inputs = [2,-5,3,10]\n",
    "output = [4,25,9,100]"
   ]
  },
  {
   "cell_type": "code",
   "execution_count": 80,
   "metadata": {},
   "outputs": [],
   "source": [
    "mini_b = mini_batch_sgd(inputs,output,weights,bias,lr,batch_size=2, epochs=epochs)"
   ]
  },
  {
   "cell_type": "code",
   "execution_count": 81,
   "metadata": {},
   "outputs": [
    {
     "data": {
      "text/plain": [
       "5249.500024967948"
      ]
     },
     "execution_count": 81,
     "metadata": {},
     "output_type": "execute_result"
    }
   ],
   "source": [
    "#loss with out mini_batch\n",
    "loss = s_gd.loss()\n",
    "loss"
   ]
  },
  {
   "cell_type": "code",
   "execution_count": 82,
   "metadata": {},
   "outputs": [],
   "source": [
    "w,b = mini_b.mini_batch()"
   ]
  },
  {
   "cell_type": "code",
   "execution_count": 83,
   "metadata": {},
   "outputs": [
    {
     "data": {
      "text/plain": [
       "5249.500024967948"
      ]
     },
     "execution_count": 83,
     "metadata": {},
     "output_type": "execute_result"
    }
   ],
   "source": [
    "#loss with sgd\n",
    "loss = s_gd.loss()\n",
    "loss"
   ]
  },
  {
   "cell_type": "markdown",
   "metadata": {},
   "source": [
    "# Momentum Gradient Descent"
   ]
  },
  {
   "cell_type": "code",
   "execution_count": 95,
   "metadata": {},
   "outputs": [],
   "source": [
    "class momentum_GD:\n",
    "\n",
    "    def __init__(self,inputs,outputs,weights,bias,learning_rate,gamma,epochs):\n",
    "        self.x = inputs\n",
    "        self.y = outputs\n",
    "        self.weights = weights\n",
    "        self.bias = bias\n",
    "        self.lr = learning_rate\n",
    "        self.gamma = gamma\n",
    "        self.epochs = epochs\n",
    "\n",
    "    def activation(self,x):\n",
    "        return 1 / (1 + np.exp(-(x * self.weights + self.bias)))\n",
    "\n",
    "    def loss(self):\n",
    "        err = 0\n",
    "        for x,y in zip(self.x,self.y):\n",
    "            f_x = self.activation(x)\n",
    "            err += 0.5 * (f_x - y) ** 2\n",
    "        return err\n",
    "\n",
    "    def grad_b(self,x,y):\n",
    "        f_x = self.activation(x)\n",
    "        return (f_x - y) * f_x * (1 - f_x)\n",
    "\n",
    "    def grad_w(self,x,y):\n",
    "        f_x = self.activation(x)\n",
    "        return (f_x - y) * f_x * (1 - f_x) * x\n",
    "\n",
    "    def momentum(self):\n",
    "        prev_w,prev_b = 0,0 \n",
    "        for i in range(self.epochs):\n",
    "            d_w,d_b = 0,0\n",
    "            for x,y in zip(self.x,self.y):\n",
    "                d_w = self.grad_w(x,y)\n",
    "                d_b = self.grad_b(x,y)\n",
    "            \n",
    "            update_w = self.gamma * prev_w + self.lr * d_w\n",
    "            update_b = self.gamma * prev_b + self.lr * d_b\n",
    "            self.weights = self.weights - update_w\n",
    "            self.bias = self.bias - update_b\n",
    "            prev_w = update_w\n",
    "            prev_b = update_w\n",
    "        return self.weights,self.bias"
   ]
  },
  {
   "cell_type": "code",
   "execution_count": 96,
   "metadata": {},
   "outputs": [],
   "source": [
    "lr = .01\n",
    "epochs = 200000\n",
    "weights = 1\n",
    "bias = -2\n",
    "inputs = [2,-5,3,10]\n",
    "output = [4,25,9,100]"
   ]
  },
  {
   "cell_type": "code",
   "execution_count": 97,
   "metadata": {},
   "outputs": [],
   "source": [
    "momentum = momentum_GD(inputs,output,weights,bias,lr,gamma=0.9,epochs=epochs)"
   ]
  },
  {
   "cell_type": "code",
   "execution_count": 98,
   "metadata": {},
   "outputs": [
    {
     "data": {
      "text/plain": [
       "5253.323119969317"
      ]
     },
     "execution_count": 98,
     "metadata": {},
     "output_type": "execute_result"
    }
   ],
   "source": [
    "#loss with out mini_batch\n",
    "loss = momentum.loss()\n",
    "loss"
   ]
  },
  {
   "cell_type": "code",
   "execution_count": 99,
   "metadata": {},
   "outputs": [
    {
     "data": {
      "text/plain": [
       "5249.500024967948"
      ]
     },
     "execution_count": 99,
     "metadata": {},
     "output_type": "execute_result"
    }
   ],
   "source": [
    "w,b = mini_b.mini_batch()\n",
    "#loss with sgd\n",
    "loss = s_gd.loss()\n",
    "loss"
   ]
  },
  {
   "cell_type": "markdown",
   "metadata": {},
   "source": [
    "# Mini Batch Momentum GD"
   ]
  },
  {
   "cell_type": "code",
   "execution_count": 105,
   "metadata": {},
   "outputs": [],
   "source": [
    "class minibatch_momentum:\n",
    "\n",
    "    def __init__(self,inputs,outputs,weights,bias,learning_rate,gamma,batch_size,epochs):\n",
    "        self.x = inputs\n",
    "        self.y = outputs\n",
    "        self.weights = weights\n",
    "        self.bias = bias\n",
    "        self.lr = learning_rate\n",
    "        self.gamma = gamma\n",
    "        self.batch_size = batch_size\n",
    "        self.epochs = epochs\n",
    "\n",
    "    def activation(self,x):\n",
    "        return 1 / (1 + np.exp(-(x * self.weights + self.bias)))\n",
    "\n",
    "    def loss(self):\n",
    "        err = 0\n",
    "        for x,y in zip(self.x,self.y):\n",
    "            f_x = self.activation(x)\n",
    "            err += 0.5 * (f_x - y) ** 2\n",
    "        return err\n",
    "\n",
    "    def grad_b(self,x,y):\n",
    "        f_x = self.activation(x)\n",
    "        return (f_x - y) * f_x * (1 - f_x)\n",
    "\n",
    "    def grad_w(self,x,y):\n",
    "        f_x = self.activation(x)\n",
    "        return (f_x - y) * f_x * (1 - f_x) * x\n",
    "\n",
    "    def mini_momentum(self):\n",
    "        prev_w,prev_b = 0,0 \n",
    "        for i in range(self.epochs):\n",
    "            d_w,d_b,points_seen = 0,0,0\n",
    "            for x,y in zip(self.x,self.y):\n",
    "                d_w = self.grad_w(x,y)\n",
    "                d_b = self.grad_b(x,y)\n",
    "                points_seen += 1\n",
    "\n",
    "                if points_seen % self.batch_size == 0:\n",
    "                    update_w = self.gamma * prev_w + self.lr * d_w\n",
    "                    update_b = self.gamma * prev_b + self.lr * d_b\n",
    "                    self.weights = self.weights - update_w\n",
    "                    self.bias = self.bias - update_b\n",
    "                    prev_w = update_w\n",
    "                    prev_b = update_b\n",
    "                    d_w,d_b = 0,0\n",
    "\n",
    "        return self.weights,self.bias"
   ]
  },
  {
   "cell_type": "code",
   "execution_count": 106,
   "metadata": {},
   "outputs": [],
   "source": [
    "lr = .01\n",
    "epochs = 200000\n",
    "weights = 1\n",
    "bias = -2\n",
    "inputs = [2,-5,3,10]\n",
    "output = [4,25,9,100]"
   ]
  },
  {
   "cell_type": "code",
   "execution_count": 107,
   "metadata": {},
   "outputs": [
    {
     "data": {
      "text/plain": [
       "5253.323119969317"
      ]
     },
     "execution_count": 107,
     "metadata": {},
     "output_type": "execute_result"
    }
   ],
   "source": [
    "mini_momentum = minibatch_momentum(inputs,output,weights,bias,lr,gamma=0.9,batch_size=2,epochs=epochs)\n",
    "#loss with out mini_batch\n",
    "loss = mini_momentum.loss()\n",
    "loss\n"
   ]
  },
  {
   "cell_type": "code",
   "execution_count": 108,
   "metadata": {},
   "outputs": [
    {
     "data": {
      "text/plain": [
       "5225.0000552166575"
      ]
     },
     "execution_count": 108,
     "metadata": {},
     "output_type": "execute_result"
    }
   ],
   "source": [
    "w,b = mini_momentum.mini_momentum()\n",
    "#loss with sgd\n",
    "loss = mini_momentum.loss()\n",
    "loss"
   ]
  },
  {
   "cell_type": "markdown",
   "metadata": {},
   "source": [
    "# Nestrov Momentum"
   ]
  },
  {
   "cell_type": "code",
   "execution_count": 10,
   "metadata": {},
   "outputs": [],
   "source": [
    "class nestrov_GD:\n",
    "\n",
    "    '''\n",
    "    Implemented with Mini GD approach\n",
    "    Can be implemented with simple GD\n",
    "    '''\n",
    "\n",
    "    def __init__(self,inputs,outputs,learning_rate,gamma,batch_size,epochs):\n",
    "        self.x = inputs\n",
    "        self.y = outputs\n",
    "        # self.weights = weights\n",
    "        # self.bias = bias\n",
    "        self.lr = learning_rate\n",
    "        self.gamma = gamma\n",
    "        self.batch_size = batch_size\n",
    "        self.epochs = epochs\n",
    "\n",
    "    def activation(self,w,b,x):\n",
    "        return 1 / (1 + np.exp(-(x * w + b)))\n",
    "\n",
    "    def loss(self,w,b):\n",
    "        err = 0\n",
    "        for x,y in zip(self.x,self.y):\n",
    "            f_x = self.activation(w,b,x)\n",
    "            err += 0.5 * (f_x - y) ** 2\n",
    "        return err\n",
    "\n",
    "    def grad_b(self,w,b,x,y):\n",
    "        f_x = self.activation(w,b,x)\n",
    "        return (f_x - y) * f_x * (1 - f_x)\n",
    "\n",
    "    def grad_w(self,w,b,x,y):\n",
    "        f_x = self.activation(w,b,x)\n",
    "        return (f_x - y) * f_x * (1 - f_x) * x\n",
    "\n",
    "    def nest(self,w,b):\n",
    "        prev_w,prev_b = 0,0\n",
    "        for i in range(self.epochs):\n",
    "            d_w,d_b,points_seen = 0,0,0\n",
    "\n",
    "            #update the weights i.e lookahead\n",
    "            w_lookahead = self.gamma * prev_w - self.lr * w\n",
    "            b_lookahead = self.gamma * prev_b - self.lr * b\n",
    "\n",
    "            for x,y in zip(self.x,self.y):\n",
    "                d_w = self.grad_w(w_lookahead,b_lookahead,x,y)\n",
    "                d_b = self.grad_b(w_lookahead,b_lookahead,x,y)\n",
    "                points_seen += 1\n",
    "\n",
    "                if points_seen % self.batch_size == 0:\n",
    "                    update_w = self.gamma * prev_w + self.lr * d_w\n",
    "                    update_b = self.gamma * prev_b + self.lr * d_b\n",
    "                    w = w - update_w\n",
    "                    b = b - update_b\n",
    "                    prev_w = update_w\n",
    "                    prev_b = update_b\n",
    "        return w,b"
   ]
  },
  {
   "cell_type": "code",
   "execution_count": 11,
   "metadata": {},
   "outputs": [],
   "source": [
    "lr = .01\n",
    "epochs = 200000\n",
    "weights = 1\n",
    "bias = -2\n",
    "inputs = [2,-5,3,10]\n",
    "output = [4,25,9,100]"
   ]
  },
  {
   "cell_type": "code",
   "execution_count": 12,
   "metadata": {},
   "outputs": [
    {
     "data": {
      "text/plain": [
       "5253.323119969317"
      ]
     },
     "execution_count": 12,
     "metadata": {},
     "output_type": "execute_result"
    }
   ],
   "source": [
    "nestrov = nestrov_GD(inputs,output,lr,gamma=0.9,batch_size=2,epochs=epochs)\n",
    "#loss with out mini_batch\n",
    "loss = nestrov.loss(weights,bias)\n",
    "loss"
   ]
  },
  {
   "cell_type": "code",
   "execution_count": 15,
   "metadata": {},
   "outputs": [
    {
     "data": {
      "text/plain": [
       "5225.0"
      ]
     },
     "execution_count": 15,
     "metadata": {},
     "output_type": "execute_result"
    }
   ],
   "source": [
    "w,b = nestrov.nest(weights,bias)\n",
    "#loss with sgd\n",
    "loss = nestrov.loss(w,b)\n",
    "loss"
   ]
  },
  {
   "cell_type": "markdown",
   "metadata": {},
   "source": [
    "# ADAGRAD"
   ]
  },
  {
   "cell_type": "code",
   "execution_count": 33,
   "metadata": {},
   "outputs": [],
   "source": [
    "class adagrad:\n",
    "\n",
    "    def __init__(self,inputs,outputs,weights,bias,learning_rate,gamma,batch_size,epochs):\n",
    "        self.x = inputs\n",
    "        self.y = outputs\n",
    "        self.weights = weights\n",
    "        self.bias = bias\n",
    "        self.lr = learning_rate\n",
    "        self.gamma = gamma\n",
    "        self.batch_size = batch_size\n",
    "        self.epochs = epochs\n",
    "\n",
    "    def activation(self,x):\n",
    "        return 1 / (1 + np.exp(-(x * self.weights + self.bias)))\n",
    "\n",
    "    def loss(self):\n",
    "        err = 0\n",
    "        for x,y in zip(self.x,self.y):\n",
    "            f_x = self.activation(x)\n",
    "            err += 0.5 * (f_x - y) ** 2\n",
    "        return err\n",
    "\n",
    "    def grad_b(self,x,y):\n",
    "        f_x = self.activation(x)\n",
    "        return (f_x - y) * f_x * (1 - f_x)\n",
    "\n",
    "    def grad_w(self,x,y):\n",
    "        f_x = self.activation(x)\n",
    "        return (f_x - y) * f_x * (1 - f_x) * x\n",
    "\n",
    "    def adagrad(self,eps):\n",
    "        prev_w,prev_b = 0,0\n",
    "        for i in range(self.epochs):\n",
    "            d_w,d_b,points_seen = 0,0,0\n",
    "            for x,y in zip(self.x,self.y):\n",
    "                d_w = self.grad_w(x,y)\n",
    "                d_b = self.grad_b(x,y)\n",
    "                points_seen += 1\n",
    "\n",
    "                if points_seen % self.batch_size == 0:\n",
    "                    prev_w = prev_w + d_w ** 2\n",
    "                    prev_b = prev_b + d_b ** 2\n",
    "                    self_weights = self.weights - (self.lr / np.sqrt(prev_w + eps)) * d_w  \n",
    "                    self_bias = self.bias - (self.lr / np.sqrt(prev_b + eps)) * d_b\n",
    "                    d_w,d_b = 0,0\n",
    "\n",
    "        return self.weights,self.bias\n",
    "        "
   ]
  },
  {
   "cell_type": "code",
   "execution_count": 34,
   "metadata": {},
   "outputs": [],
   "source": [
    "lr = .01\n",
    "epochs = 200000\n",
    "weights = 1\n",
    "bias = -2\n",
    "inputs = [2,-5,3,10]\n",
    "output = [4,25,9,100]"
   ]
  },
  {
   "cell_type": "code",
   "execution_count": 35,
   "metadata": {},
   "outputs": [
    {
     "data": {
      "text/plain": [
       "5253.323119969317"
      ]
     },
     "execution_count": 35,
     "metadata": {},
     "output_type": "execute_result"
    }
   ],
   "source": [
    "adagrad = adagrad(inputs,output,weights=weights,learning_rate=lr,bias=bias,gamma=0.9,batch_size=2,epochs=epochs)\n",
    "#loss with out mini_batch\n",
    "loss = adagrad.loss()\n",
    "loss"
   ]
  },
  {
   "cell_type": "code",
   "execution_count": 36,
   "metadata": {},
   "outputs": [
    {
     "data": {
      "text/plain": [
       "5253.323119969317"
      ]
     },
     "execution_count": 36,
     "metadata": {},
     "output_type": "execute_result"
    }
   ],
   "source": [
    "w,b = adagrad.adagrad(eps=1e-8)\n",
    "#loss with sgd\n",
    "loss = adagrad.loss()\n",
    "loss"
   ]
  },
  {
   "cell_type": "markdown",
   "metadata": {},
   "source": [
    "# RMS PROP"
   ]
  },
  {
   "cell_type": "code",
   "execution_count": 39,
   "metadata": {},
   "outputs": [],
   "source": [
    "class rmsprop:\n",
    "\n",
    "    def __init__(self,inputs,outputs,weights,bias,learning_rate,gamma,batch_size,epochs):\n",
    "        self.x = inputs\n",
    "        self.y = outputs\n",
    "        self.weights = weights\n",
    "        self.bias = bias\n",
    "        self.lr = learning_rate\n",
    "        self.gamma = gamma\n",
    "        self.batch_size = batch_size\n",
    "        self.epochs = epochs\n",
    "\n",
    "    def activation(self,x):\n",
    "        return 1 / (1 + np.exp(-(x * self.weights + self.bias)))\n",
    "\n",
    "    def loss(self):\n",
    "        err = 0\n",
    "        for x,y in zip(self.x,self.y):\n",
    "            f_x = self.activation(x)\n",
    "            err += 0.5 * (f_x - y) ** 2\n",
    "        return err\n",
    "\n",
    "    def grad_b(self,x,y):\n",
    "        f_x = self.activation(x)\n",
    "        return (f_x - y) * f_x * (1 - f_x)\n",
    "\n",
    "    def grad_w(self,x,y):\n",
    "        f_x = self.activation(x)\n",
    "        return (f_x - y) * f_x * (1 - f_x) * x\n",
    "\n",
    "    def rmsprop(self,beta,eps):\n",
    "        prev_w,prev_b = 0,0\n",
    "        for i in range(self.epochs):\n",
    "            d_w,d_b,points_seen = 0,0,0\n",
    "            for x,y in zip(self.x,self.y):\n",
    "                d_w = self.grad_w(x,y)\n",
    "                d_b = self.grad_b(x,y)\n",
    "                points_seen += 1\n",
    "\n",
    "                if points_seen % self.batch_size == 0:\n",
    "                    prev_w = beta * prev_w + (1-beta) * d_w ** 2\n",
    "                    prev_b = beta * prev_b + (1-beta) * d_b ** 2\n",
    "                    self_weights = self.weights - (self.lr / np.sqrt(prev_w + eps)) * d_w  \n",
    "                    self_bias = self.bias - (self.lr / np.sqrt(prev_b + eps)) * d_b\n",
    "                    d_w,d_b = 0,0\n",
    "\n",
    "        return self.weights,self.bias\n"
   ]
  },
  {
   "cell_type": "code",
   "execution_count": 44,
   "metadata": {},
   "outputs": [],
   "source": [
    "lr = .01\n",
    "epochs = 200000\n",
    "weights = 1\n",
    "bias = -2\n",
    "inputs = [2,-5,3,10]\n",
    "output = [4,25,9,100]"
   ]
  },
  {
   "cell_type": "code",
   "execution_count": 45,
   "metadata": {},
   "outputs": [
    {
     "data": {
      "text/plain": [
       "5253.323119969317"
      ]
     },
     "execution_count": 45,
     "metadata": {},
     "output_type": "execute_result"
    }
   ],
   "source": [
    "rms_prop = rmsprop(inputs,output,weights=weights,learning_rate=lr,bias=bias,gamma=0.9,batch_size=2,epochs=epochs)\n",
    "#loss with out mini_batch\n",
    "loss = rms_prop.loss()\n",
    "loss"
   ]
  },
  {
   "cell_type": "code",
   "execution_count": 46,
   "metadata": {},
   "outputs": [
    {
     "data": {
      "text/plain": [
       "5253.323119969317"
      ]
     },
     "execution_count": 46,
     "metadata": {},
     "output_type": "execute_result"
    }
   ],
   "source": [
    "w,b = rms_prop.rmsprop(beta=0.95,eps=1e-8)\n",
    "loss = rms_prop.loss()\n",
    "loss"
   ]
  }
 ],
 "metadata": {
  "kernelspec": {
   "display_name": "Python 3.8.10 ('virtual': venv)",
   "language": "python",
   "name": "python3"
  },
  "language_info": {
   "codemirror_mode": {
    "name": "ipython",
    "version": 3
   },
   "file_extension": ".py",
   "mimetype": "text/x-python",
   "name": "python",
   "nbconvert_exporter": "python",
   "pygments_lexer": "ipython3",
   "version": "3.8.10"
  },
  "orig_nbformat": 4,
  "vscode": {
   "interpreter": {
    "hash": "b80c72f4548cae5a98ec476b16e55c97948409649ee2b344e26ccc876ba41ade"
   }
  }
 },
 "nbformat": 4,
 "nbformat_minor": 2
}
