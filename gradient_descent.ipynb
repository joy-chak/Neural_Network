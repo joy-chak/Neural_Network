{
 "cells": [
  {
   "cell_type": "code",
   "execution_count": 1,
   "metadata": {},
   "outputs": [],
   "source": [
    "import numpy as np"
   ]
  },
  {
   "cell_type": "code",
   "execution_count": 2,
   "metadata": {},
   "outputs": [],
   "source": [
    "class gradient_descent:\n",
    "\n",
    "    def __init__(self,lr,epochs,weights,inputs,b,y):\n",
    "        self.lr = lr\n",
    "        self.epochs = epochs\n",
    "        self.weights = weights\n",
    "        self.inputs = inputs\n",
    "        self.b = b\n",
    "        self.y = y\n",
    "\n",
    "    def activation(self,x,b):\n",
    "        return 1 / (1 + np.exp(-(x * self.weights + self.b)))\n",
    "\n",
    "    def error(self):\n",
    "        err = 0\n",
    "        for x,y in zip(self.inputs,self.y):\n",
    "            f_x = self.activation(x,self.b)\n",
    "            err += 0.5 * (f_x - y) ** 2\n",
    "        return err\n",
    "\n",
    "    def grad_b(self,x,y):\n",
    "        f_x = self.activation(x,self.b)\n",
    "        return (f_x - y) * f_x * (1 - f_x)\n",
    "\n",
    "    def grad_w(self,x,y):\n",
    "        f_x = self.activation(x,self.b)\n",
    "        return (f_x - y) * f_x * (1 - f_x) * x\n",
    "\n",
    "    def gd_algo(self):\n",
    "        for i in range(self.epochs):\n",
    "            dw,db = 0,0\n",
    "            for x,y in zip(self.inputs,self.y):\n",
    "                dw += self.grad_w(x,y)\n",
    "                db += self.grad_b(x,y)\n",
    "            new_w = self.weights - self.lr * dw\n",
    "            new_b = self.b - self.lr * db\n",
    "        \n",
    "        return new_w,new_b"
   ]
  },
  {
   "cell_type": "code",
   "execution_count": 6,
   "metadata": {},
   "outputs": [
    {
     "data": {
      "text/plain": [
       "5253.323119969317"
      ]
     },
     "execution_count": 6,
     "metadata": {},
     "output_type": "execute_result"
    }
   ],
   "source": [
    "lr = .01\n",
    "epochs = 200000\n",
    "weights = 1\n",
    "bias = -2\n",
    "inputs = [2,-5,3,10]\n",
    "output = [4,25,9,100]\n",
    "\n",
    "gd = gradient_descent(lr,epochs,weights,inputs,b=bias,y=output)\n",
    "\n",
    "#Without Gradient Descent the Loss is\n",
    "gd.error()"
   ]
  },
  {
   "cell_type": "code",
   "execution_count": 7,
   "metadata": {},
   "outputs": [
    {
     "name": "stdout",
     "output_type": "stream",
     "text": [
      "1.0684543059319238\n",
      "-1.9744328409921206\n"
     ]
    }
   ],
   "source": [
    "new_w,new_b = gd.gd_algo()\n",
    "print(new_w)\n",
    "print(new_b)"
   ]
  },
  {
   "cell_type": "code",
   "execution_count": 8,
   "metadata": {},
   "outputs": [
    {
     "data": {
      "text/plain": [
       "5252.817384600268"
      ]
     },
     "execution_count": 8,
     "metadata": {},
     "output_type": "execute_result"
    }
   ],
   "source": [
    "#Loss after GD\n",
    "gd = gradient_descent(lr,epochs,new_w,inputs,b=new_b,y=output)\n",
    "gd.error()"
   ]
  }
 ],
 "metadata": {
  "kernelspec": {
   "display_name": "Python 3.8.10 ('virtual': venv)",
   "language": "python",
   "name": "python3"
  },
  "language_info": {
   "codemirror_mode": {
    "name": "ipython",
    "version": 3
   },
   "file_extension": ".py",
   "mimetype": "text/x-python",
   "name": "python",
   "nbconvert_exporter": "python",
   "pygments_lexer": "ipython3",
   "version": "3.8.10"
  },
  "orig_nbformat": 4,
  "vscode": {
   "interpreter": {
    "hash": "b80c72f4548cae5a98ec476b16e55c97948409649ee2b344e26ccc876ba41ade"
   }
  }
 },
 "nbformat": 4,
 "nbformat_minor": 2
}
