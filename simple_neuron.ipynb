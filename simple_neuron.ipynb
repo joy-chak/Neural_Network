{
 "cells": [
  {
   "cell_type": "code",
   "execution_count": 1,
   "metadata": {},
   "outputs": [],
   "source": [
    "from IPython.display import Image"
   ]
  },
  {
   "cell_type": "code",
   "execution_count": 2,
   "metadata": {},
   "outputs": [
    {
     "data": {
      "image/png": "[encoded data removed]",
      "text/plain": [
       "<IPython.core.display.Image object>"
      ]
     },
     "execution_count": 2,
     "metadata": {
      "image/png": {
       "width": 400
      }
     },
     "output_type": "execute_result"
    }
   ],
   "source": [
    "Image('/home/mainak/HDD_PC/Jupyter_1/DNN/Neural_Network/index.png',width = 400)"
   ]
  },
  {
   "cell_type": "code",
   "execution_count": 5,
   "metadata": {},
   "outputs": [],
   "source": [
    "class simple_neuron:\n",
    "\n",
    "    def __init__(self,input,weights):\n",
    "        self.input = input\n",
    "        self.weights = weights\n",
    "\n",
    "    def weighted_sum(self):\n",
    "        total = 0\n",
    "        for i,j in zip(self.input,self.weights):\n",
    "            total += i * j\n",
    "        \n",
    "        if total >= 2:\n",
    "            return 1\n",
    "        else:\n",
    "            return 0 "
   ]
  },
  {
   "cell_type": "code",
   "execution_count": 8,
   "metadata": {},
   "outputs": [],
   "source": [
    "inputs  = [4.9, 3.0,  1.4,  0.2]\n",
    "weights = [0.9, 0.8, -1.0, -1.0]\n",
    "neuron = simple_neuron(inputs,weights)"
   ]
  },
  {
   "cell_type": "code",
   "execution_count": 9,
   "metadata": {},
   "outputs": [
    {
     "data": {
      "text/plain": [
       "1"
      ]
     },
     "execution_count": 9,
     "metadata": {},
     "output_type": "execute_result"
    }
   ],
   "source": [
    "neuron.weighted_sum()"
   ]
  }
 ],
 "metadata": {
  "kernelspec": {
   "display_name": "Python 3.8.10 ('virtual': venv)",
   "language": "python",
   "name": "python3"
  },
  "language_info": {
   "codemirror_mode": {
    "name": "ipython",
    "version": 3
   },
   "file_extension": ".py",
   "mimetype": "text/x-python",
   "name": "python",
   "nbconvert_exporter": "python",
   "pygments_lexer": "ipython3",
   "version": "3.8.10"
  },
  "orig_nbformat": 4,
  "vscode": {
   "interpreter": {
    "hash": "b80c72f4548cae5a98ec476b16e55c97948409649ee2b344e26ccc876ba41ade"
   }
  }
 },
 "nbformat": 4,
 "nbformat_minor": 2
}
