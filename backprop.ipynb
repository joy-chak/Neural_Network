{
 "cells": [
  {
   "cell_type": "code",
   "execution_count": 1,
   "metadata": {},
   "outputs": [],
   "source": [
    "\n",
    "import numpy as np"
   ]
  },
  {
   "cell_type": "markdown",
   "metadata": {},
   "source": [
    "# Simple Backpropagation"
   ]
  },
  {
   "cell_type": "code",
   "execution_count": 2,
   "metadata": {},
   "outputs": [
    {
     "data": {
      "image/png": "[encoded data removed]",
      "text/plain": [
       "<IPython.core.display.Image object>"
      ]
     },
     "execution_count": 2,
     "metadata": {},
     "output_type": "execute_result"
    }
   ],
   "source": [
    "from IPython.display import Image\n",
    "Image('/home/mainak/HDD_PC/Jupyter_1/DNN/Neural_Network/index1.png')"
   ]
  },
  {
   "cell_type": "code",
   "execution_count": 2,
   "metadata": {},
   "outputs": [],
   "source": [
    "n_input = 4\n",
    "n_hidden = 2\n",
    "n_output = 3\n",
    "\n",
    "#Define the inputs\n",
    "inputs = np.array([[4.9, 3.0, 1.4, 0.2],[6.4, 3.2, 4.5, 1.5],\n",
    "                    [5.8, 2.7, 5.1, 1.9]], dtype=np.float32)\n",
    "\n",
    "#OHE labels\n",
    "y = np.array([[1,0,0],[0,1,0],[0,0,1]],dtype=np.int32)\n",
    "\n",
    "#Define the Weights\n",
    "np.random.seed(10)\n",
    "weights_1 = np.random.normal(scale=0.5, size=(n_input, n_hidden))   # (4, 2)\n",
    "weights_2 = np.random.normal(scale=0.5, size=(n_hidden, n_output))  # (2, 3)\n"
   ]
  },
  {
   "cell_type": "code",
   "execution_count": null,
   "metadata": {},
   "outputs": [],
   "source": [
    "'''Remember the weights should in the format (inputs_shape,hidden_layer_shape)'''\n"
   ]
  },
  {
   "cell_type": "code",
   "execution_count": 17,
   "metadata": {},
   "outputs": [],
   "source": [
    "class backprop:\n",
    "\n",
    "    def __init__(self,inputs,y,weights1,weights2,lr,activation,epochs):\n",
    "        self.inputs = inputs\n",
    "        self.y = y\n",
    "        self.weights1 = weights1\n",
    "        self.weights2 = weights2\n",
    "        self.lr = lr\n",
    "        self.activation = activation\n",
    "        self.epochs = epochs\n",
    "\n",
    "    def activations(self,x):\n",
    "        if self.activation == 'sigmoid':\n",
    "            return 1/(1 + np.exp(-x))\n",
    "\n",
    "    def feedforward(self):\n",
    "        hidden_input = np.dot(self.inputs,self.weights1)\n",
    "        hidden_output = self.activations(hidden_input)\n",
    "\n",
    "        final_input = np.dot(hidden_output,self.weights2)\n",
    "        final_output = self.activations(final_input)\n",
    "        return final_output,hidden_output\n",
    "\n",
    "    def back_prop(self):\n",
    "        # hidden_input = np.dot(self.inputs,self.weights1)\n",
    "        # hidden_output = self.activations(hidden_input)\n",
    "\n",
    "        # output_layer = np.dot(hidden_output,self.weights2)\n",
    "        # final_output = self.activations(output_layer)\n",
    "\n",
    "        ''' Derivative of a sigmoid is = sigmoid * (1 - sigmoid) '''\n",
    "        final_output,hidden_output = self.feedforward()\n",
    "        \n",
    "        output_layer_error = final_output - self.y\n",
    "        output_layer_delta = output_layer_error * final_output * (1 - final_output)\n",
    "        # print(output_layer_error.shape)\n",
    "        # print(output_layer_delta.shape)\n",
    "\n",
    "\n",
    "        hidden_layer_error = np.dot(output_layer_delta,self.weights2.T)\n",
    "        hidden_layer_delta = hidden_layer_error * hidden_output *  (1 - hidden_output)\n",
    "\n",
    "        #Update Weights\n",
    "        weight2_update = np.dot(hidden_output.T,output_layer_delta) / self.y.shape[0]\n",
    "        weight1_update = np.dot(self.inputs.T,hidden_layer_delta) / self.y.shape[0]\n",
    "\n",
    "        return weight1_update,weight2_update\n",
    "\n",
    "    def update_weights(self,w1,w2):\n",
    "        # w1,w2 = self.back_prop()\n",
    "        self.weights1 = self.weights1 - self.lr * w1\n",
    "        self.weights2 = self.weights2 - self.lr * w2\n",
    "        return self.weights1,self.weights2\n",
    "\n",
    "    def train(self):\n",
    "        # w1,w2 = self.weights1,self.weights2\n",
    "        for i in range(self.epochs):\n",
    "            # print('#'*10 + f'{i}' + '#'*10)\n",
    "            final_output,hidden_output = self.feedforward()\n",
    "            w1_,w2_ = self.back_prop()\n",
    "            self.weights1,self.weights2 = self.update_weights(w1_,w2_)\n",
    "\n",
    "        return self.weights1,self.weights2"
   ]
  },
  {
   "cell_type": "code",
   "execution_count": 25,
   "metadata": {},
   "outputs": [
    {
     "data": {
      "text/plain": [
       "0.829867609096949"
      ]
     },
     "execution_count": 25,
     "metadata": {},
     "output_type": "execute_result"
    }
   ],
   "source": [
    "#Loss using the Original weights\n",
    "bp = backprop(inputs,y,weights_1,weights_2,lr=.001,activation='sigmoid',epochs=200000)\n",
    "y_hat,hidden_y = bp.feedforward()\n",
    "loss = ((y_hat - y) ** 2).sum() / y.shape[0]\n",
    "# print(y_hat.shape)\n",
    "# print(hidden_y.shape)\n",
    "loss"
   ]
  },
  {
   "cell_type": "code",
   "execution_count": 26,
   "metadata": {},
   "outputs": [],
   "source": [
    "w1,w2 = bp.train()"
   ]
  },
  {
   "cell_type": "code",
   "execution_count": 27,
   "metadata": {},
   "outputs": [
    {
     "data": {
      "text/plain": [
       "0.3503619035094647"
      ]
     },
     "execution_count": 27,
     "metadata": {},
     "output_type": "execute_result"
    }
   ],
   "source": [
    "#Loss using the optimized weights\n",
    "y_hat,hidden_y = bp.feedforward()\n",
    "loss = ((y_hat - y) ** 2).sum() / y.shape[0]\n",
    "# print(y_hat.shape)\n",
    "# print(hidden_y,shape)\n",
    "loss"
   ]
  },
  {
   "cell_type": "markdown",
   "metadata": {},
   "source": [
    "# Generalized Backpropagation"
   ]
  },
  {
   "cell_type": "code",
   "execution_count": 285,
   "metadata": {},
   "outputs": [],
   "source": [
    "import numpy as np\n",
    "# import warnings\n",
    "# warnings.filterwarnings('ignore')"
   ]
  },
  {
   "cell_type": "code",
   "execution_count": 296,
   "metadata": {},
   "outputs": [],
   "source": [
    "'''\n",
    "    input = 3 X 4 , meaning 3 observations each having 4 features\n",
    "    total_layers = 5 hidden layers along which includes the final o/p layer\n",
    "'''\n",
    "\n",
    "#Define the inputs\n",
    "inputs = np.array([[4.9, 3.0, 1.4, 0.2],[6.4, 3.2, 4.5, 1.5],\n",
    "                    [5.8, 2.7, 5.1, 1.9]], dtype=np.float32)\n",
    "\n",
    "#OHE labels\n",
    "y = np.array([[1,0,0],[0,1,0],[0,0,1]],dtype=np.int32)\n",
    "\n",
    "#Define the Weights\n",
    "np.random.seed(10)\n",
    "weights_0 = np.random.normal(scale=0.5, size=(4,2))   # (4, 2)\n",
    "weights_1 = np.random.normal(scale=0.5, size=(2,3))  # (2, 3)\n",
    "weights_2 = np.random.normal(scale=0.5, size=(3,2))\n",
    "weights_3 = np.random.normal(scale=0.5, size=(2,4))\n",
    "weights_4 = np.random.normal(scale=0.5, size=(4,3))\n",
    "\n",
    "weights = [weights_0,weights_1,weights_2,weights_3,weights_4]\n",
    "\n",
    "#Define bias\n",
    "b_0 = np.random.randint(low=1,high=10,size=(1,2))\n",
    "b_1 = np.random.randint(low=1,high=10,size=(1,3))\n",
    "b_2 = np.random.randint(low=1,high=10,size=(1,2))\n",
    "b_3 = np.random.randint(low=1,high=10,size=(1,4))\n",
    "b_4 = np.random.randint(low=1,high=10,size=(1,3))\n",
    "\n",
    "bias = [b_0,b_1,b_2,b_3,b_4]"
   ]
  },
  {
   "cell_type": "code",
   "execution_count": 297,
   "metadata": {},
   "outputs": [],
   "source": [
    "class backprop:\n",
    "    '''Layers = Total number of layers including the final layer'''\n",
    "\n",
    "    def __init__(self,layers,epochs,inputs,weights,bias,labels,activation,learning_rate):\n",
    "        self.layers = layers\n",
    "        self.epochs = epochs\n",
    "        self.inputs = inputs\n",
    "        self.weights = weights\n",
    "        self.bias = bias\n",
    "        self.y = labels\n",
    "        self.activation = activation\n",
    "        self.lr = learning_rate\n",
    "\n",
    "    def activations(self,x):\n",
    "        '''Other Activations can be added'''\n",
    "        if self.activation == 'sigmoid':\n",
    "            return 1 / (1 + np.exp(-x))\n",
    "\n",
    "    def grad_activation(self,x):\n",
    "        return self.activations(x) * (1-self.activations(x))\n",
    "\n",
    "    def forward_prop(self):\n",
    "        h = []\n",
    "        a = []\n",
    "        inputs = self.inputs\n",
    "        for i in range(self.layers):\n",
    "            h_i = np.array(np.dot(inputs,self.weights[i]) + self.bias[i],dtype=np.float32)\n",
    "            a_i = np.array(self.activations(h_i),dtype=np.float128)\n",
    "            h.append(h_i)\n",
    "            a.append(a_i)\n",
    "            inputs = h_i\n",
    "        return h,a\n",
    "\n",
    "    def loss(self,a):\n",
    "        loss = ((a[-1] - self.y) ** 2 ) / len(self.y)\n",
    "        return loss.sum()\n",
    "\n",
    "    def back_prop(self,h,a):\n",
    "        d_w = [0 for _ in range(self.layers)]\n",
    "        d_b = [0 for _ in range(self.layers)]\n",
    "        error_o = (h[-1] - self.y) * self.grad_activation(a[-1])\n",
    "        for i in reversed(range(self.layers - 1)):\n",
    "            d_w[i+1] = np.dot(a[i].T,error_o.T) / len(self.y)\n",
    "            d_b[i+1] = np.sum(error_o,axis=1,keepdims=True) / len(self.y)\n",
    "            error_i = np.multiply(np.dot(self.weights[i+1],error_o),self.grad_activation(h[i].T))\n",
    "            error_o = error_i\n",
    "        # print(error_o.shape)\n",
    "        # print(self.inputs)\n",
    "        d_w[0] = np.dot(self.inputs.T,error_o.T)\n",
    "        d_b[0] = np.sum(error_o,axis=1,keepdims=True) / len(self.y)\n",
    "        return d_w,d_b\n",
    "\n",
    "    def update(self,d_w,d_b):\n",
    "        for i in range(self.layers):\n",
    "            self.weights[i] = self.weights[i] - self.lr * d_w[i]\n",
    "            self.bias[i] = self.bias[i] - self.lr * d_b[i].T\n",
    "\n",
    "        return self.weights,self.bias\n",
    "\n",
    "    def train(self):\n",
    "        for j in range(self.epochs):\n",
    "            # print(f'{j}')\n",
    "            h,a = self.forward_prop()\n",
    "            d_w,d_b = self.back_prop(h,a)\n",
    "            self.weights,self.bias = self.update(d_w,d_b)\n",
    "        return self.weights,self.bias"
   ]
  },
  {
   "cell_type": "code",
   "execution_count": 298,
   "metadata": {},
   "outputs": [],
   "source": [
    "bp = backprop(layers=5,epochs=2000,inputs=inputs,weights=weights,bias=bias,labels=y,\n",
    "                activation='sigmoid',learning_rate=0.1)"
   ]
  },
  {
   "cell_type": "code",
   "execution_count": 299,
   "metadata": {},
   "outputs": [
    {
     "data": {
      "text/plain": [
       "1.5544186016133928127"
      ]
     },
     "execution_count": 299,
     "metadata": {},
     "output_type": "execute_result"
    }
   ],
   "source": [
    "#Find the loss for forward pass without backprop\n",
    "h,a = bp.forward_prop()\n",
    "loss = bp.loss(a)\n",
    "loss"
   ]
  },
  {
   "cell_type": "code",
   "execution_count": 300,
   "metadata": {},
   "outputs": [],
   "source": [
    "w,b = bp.train()"
   ]
  },
  {
   "cell_type": "code",
   "execution_count": 301,
   "metadata": {},
   "outputs": [
    {
     "data": {
      "text/plain": [
       "1.3333333333332697996"
      ]
     },
     "execution_count": 301,
     "metadata": {},
     "output_type": "execute_result"
    }
   ],
   "source": [
    "#Find the loss after training\n",
    "h,a = bp.forward_prop()\n",
    "loss = bp.loss(a)\n",
    "loss"
   ]
  }
 ],
 "metadata": {
  "kernelspec": {
   "display_name": "Python 3.8.10 ('virtual': venv)",
   "language": "python",
   "name": "python3"
  },
  "language_info": {
   "codemirror_mode": {
    "name": "ipython",
    "version": 3
   },
   "file_extension": ".py",
   "mimetype": "text/x-python",
   "name": "python",
   "nbconvert_exporter": "python",
   "pygments_lexer": "ipython3",
   "version": "3.8.10"
  },
  "orig_nbformat": 4,
  "vscode": {
   "interpreter": {
    "hash": "b80c72f4548cae5a98ec476b16e55c97948409649ee2b344e26ccc876ba41ade"
   }
  }
 },
 "nbformat": 4,
 "nbformat_minor": 2
}
